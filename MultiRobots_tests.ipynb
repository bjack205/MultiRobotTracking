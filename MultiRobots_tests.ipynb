{
 "cells": [
  {
   "cell_type": "code",
   "execution_count": 26,
   "metadata": {},
   "outputs": [],
   "source": [
    "import matplotlib.pyplot as plt\n",
    "import matplotlib.patches as patches\n",
    "import numpy as np\n",
    "import trans\n"
   ]
  },
  {
   "cell_type": "code",
   "execution_count": 48,
   "metadata": {},
   "outputs": [
    {
     "data": {
      "image/png": "[encoded data removed]",
      "text/plain": [
       "<matplotlib.figure.Figure at 0x1ebe9d2d4e0>"
      ]
     },
     "metadata": {},
     "output_type": "display_data"
    }
   ],
   "source": [
    "ax = plt.axes(xlim=(0, 10), ylim=(0, 10))\n",
    "ax.set_aspect('equal')\n",
    "wedge = patches.Wedge((5, 5), 1, 270-15, 270+15, alpha=2)\n",
    "\n",
    "rot = lambda x: np.array([[np.cos(x), -np.sin(x)],[np.sin(x), np.cos(x)]])\n",
    "scale = 0.3\n",
    "trans = np.array([[5,5]])\n",
    "pts = np.array([[-1, -1],\n",
    "                [1, -1],\n",
    "                [0, 4]]).dot(rot(np.radians(30)))*scale + trans\n",
    "\n",
    "\n",
    "\n",
    "rbt = patches.Polygon(pts)\n",
    "ax.add_patch(rbt)\n",
    "# plt.scatter(5,5,marker=(3,1,45))\n",
    "plt.show()"
   ]
  },
  {
   "cell_type": "code",
   "execution_count": 99,
   "metadata": {},
   "outputs": [
    {
     "ename": "AttributeError",
     "evalue": "'PathCollection' object has no attribute 'set_data'",
     "output_type": "error",
     "traceback": [
      "\u001b[1;31m---------------------------------------------------------------------------\u001b[0m",
      "\u001b[1;31mAttributeError\u001b[0m                            Traceback (most recent call last)",
      "\u001b[1;32m<ipython-input-99-b3973e1cd116>\u001b[0m in \u001b[0;36m<module>\u001b[1;34m()\u001b[0m\n\u001b[0;32m     16\u001b[0m \u001b[0mfig\u001b[0m\u001b[1;33m.\u001b[0m\u001b[0mcanvas\u001b[0m\u001b[1;33m.\u001b[0m\u001b[0mdraw\u001b[0m\u001b[1;33m(\u001b[0m\u001b[1;33m)\u001b[0m\u001b[1;33m\u001b[0m\u001b[0m\n\u001b[0;32m     17\u001b[0m \u001b[0mfig\u001b[0m\u001b[1;33m.\u001b[0m\u001b[0mcanvas\u001b[0m\u001b[1;33m.\u001b[0m\u001b[0mflush_events\u001b[0m\u001b[1;33m(\u001b[0m\u001b[1;33m)\u001b[0m\u001b[1;33m\u001b[0m\u001b[0m\n\u001b[1;32m---> 18\u001b[1;33m \u001b[0mprint\u001b[0m\u001b[1;33m(\u001b[0m\u001b[0mtype\u001b[0m\u001b[1;33m(\u001b[0m\u001b[0mS\u001b[0m\u001b[1;33m.\u001b[0m\u001b[0mset_data\u001b[0m\u001b[1;33m(\u001b[0m\u001b[1;33m)\u001b[0m\u001b[1;33m)\u001b[0m\u001b[1;33m)\u001b[0m\u001b[1;33m\u001b[0m\u001b[0m\n\u001b[0m\u001b[0;32m     19\u001b[0m \u001b[0mprint\u001b[0m\u001b[1;33m(\u001b[0m\u001b[1;33m(\u001b[0m\u001b[1;33m)\u001b[0m\u001b[1;33m)\u001b[0m\u001b[1;33m\u001b[0m\u001b[0m\n\u001b[0;32m     20\u001b[0m \u001b[1;33m\u001b[0m\u001b[0m\n",
      "\u001b[1;31mAttributeError\u001b[0m: 'PathCollection' object has no attribute 'set_data'"
     ]
    },
    {
     "data": {
      "image/png": "[encoded data removed]",
      "text/plain": [
       "<matplotlib.figure.Figure at 0x1ebe85ad1d0>"
      ]
     },
     "metadata": {},
     "output_type": "display_data"
    }
   ],
   "source": [
    "\n",
    "robots = np.array([[-5, -5, np.radians(0)],\n",
    "                                [5, -5, np.radians(30)],\n",
    "                                [5, 0, np.radians(90)]]).T\n",
    "fig = plt.figure()\n",
    "ax = plt.axes(xlim=(-10, 10), ylim=(-10, 10))\n",
    "ax.set_aspect('equal')\n",
    "plt.grid()\n",
    "x, y, th = robots\n",
    "u = np.cos(th)\n",
    "v = np.sin(th)\n",
    "# Q = plt.quiver(x, y, u, v, scale=25, headwidth=5)\n",
    "S = ax.plot(x,y)\n",
    "robots[0:2,:] += 2.5\n",
    "# S.set_array(robots[0:2,:])\n",
    "fig.canvas.draw()\n",
    "fig.canvas.flush_events()\n",
    "print(())\n",
    "\n",
    "\n"
   ]
  },
  {
   "cell_type": "code",
   "execution_count": 77,
   "metadata": {},
   "outputs": [
    {
     "data": {
      "image/png": "[encoded data removed]",
      "text/plain": [
       "<matplotlib.figure.Figure at 0x1ebe84acf98>"
      ]
     },
     "metadata": {},
     "output_type": "display_data"
    }
   ],
   "source": [
    "import numpy as np\n",
    "from matplotlib import pyplot as plt\n",
    "from matplotlib import animation\n",
    "\n",
    "X, Y = np.mgrid[:2*np.pi:10j,:2*np.pi:5j]\n",
    "U = np.cos(X)\n",
    "V = np.sin(Y)\n",
    "\n",
    "fig, ax = plt.subplots(1,1)\n",
    "Q = ax.quiver(X, Y, U, V, pivot='mid', color='r', units='inches')\n",
    "\n",
    "ax.set_xlim(-1, 7)\n",
    "ax.set_ylim(-1, 7)\n",
    "\n",
    "def update_quiver(num, Q, X, Y):\n",
    "    \"\"\"updates the horizontal and vertical vector components by a\n",
    "    fixed increment on each frame\n",
    "    \"\"\"\n",
    "\n",
    "    U = np.cos(X + num*0.1)\n",
    "    V = np.sin(Y + num*0.1)\n",
    "\n",
    "    Q.set_UVC(U,V)\n",
    "\n",
    "    return Q,\n",
    "\n",
    "# you need to set blit=False, or the first set of arrows never gets\n",
    "# cleared on subsequent frames\n",
    "anim = animation.FuncAnimation(fig, update_quiver, fargs=(Q, X, Y),\n",
    "                               interval=50, blit=False)\n",
    "fig.tight_layout()\n",
    "plt.show()"
   ]
  },
  {
   "cell_type": "code",
   "execution_count": null,
   "metadata": {},
   "outputs": [],
   "source": []
  }
 ],
 "metadata": {
  "kernelspec": {
   "display_name": "Python 3",
   "language": "python",
   "name": "python3"
  },
  "language_info": {
   "codemirror_mode": {
    "name": "ipython",
    "version": 3
   },
   "file_extension": ".py",
   "mimetype": "text/x-python",
   "name": "python",
   "nbconvert_exporter": "python",
   "pygments_lexer": "ipython3",
   "version": "3.6.4"
  }
 },
 "nbformat": 4,
 "nbformat_minor": 2
}
